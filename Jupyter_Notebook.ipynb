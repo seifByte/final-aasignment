{
 "cells": [
  {
   "cell_type": "markdown",
   "metadata": {},
   "source": [
    "<center>\n",
    "    <img src=\"https://cf-courses-data.s3.us.cloud-object-storage.appdomain.cloud/IBMDeveloperSkillsNetwork-DS0105EN-SkillsNetwork/labs/Module2/images/SN_web_lightmode.png\" width=\"300\" alt=\"cognitiveclass.ai logo\">\n",
    "</center>\n"
   ]
  },
  {
   "cell_type": "markdown",
   "metadata": {},
   "source": [
    "#### Add your code below following the instructions given in the course\n"
   ]
  },
  {
   "cell_type": "markdown",
   "metadata": {},
   "source": [
    "<h1>My Jupyter Notebook on IBM Watson Studio</h1>"
   ]
  },
  {
   "cell_type": "markdown",
   "metadata": {},
   "source": [
    "<strong>Seif Nasr</strong><br>\n",
    "I'am a student"
   ]
  },
  {
   "cell_type": "markdown",
   "metadata": {},
   "source": [
    "<em>I want to be a data a data science because I'am interested in data</em>"
   ]
  },
  {
   "cell_type": "markdown",
   "metadata": {
    "tags": []
   },
   "source": [
    "|tools|\n",
    "|--|\n",
    "|IBM Watson Studio|\n",
    "|Jupyter Notebook/Jupyter lab|\n"
   ]
  },
  {
   "cell_type": "markdown",
   "metadata": {
    "tags": []
   },
   "source": [
    "<h3>the code in cell 5 must print out the result of 1+1 and 2*2</h3>"
   ]
  },
  {
   "cell_type": "code",
   "execution_count": 6,
   "metadata": {},
   "outputs": [
    {
     "name": "stdout",
     "output_type": "stream",
     "text": [
      "2\n",
      "4\n"
     ]
    }
   ],
   "source": [
    "print(1+1)\n",
    "print(2*2)"
   ]
  },
  {
   "cell_type": "markdown",
   "metadata": {
    "tags": []
   },
   "source": [
    "these are some of  the date science languages\n",
    "<ol>\n",
    "    <li>R</li>\n",
    "    <li>Python</li>\n",
    "    <li>SQL</li>\n",
    "</ol>\n"
   ]
  },
  {
   "cell_type": "markdown",
   "metadata": {
    "tags": []
   },
   "source": [
    "\n",
    "these are some of  the date science libraries\n",
    "<ol>\n",
    "    <li>pandas</li>\n",
    "    <li>Numpy</li>\n",
    "    <li>matplotlib</li>\n",
    "</ol>\n"
   ]
  },
  {
   "cell_type": "markdown",
   "metadata": {
    "jupyter": {
     "source_hidden": true
    },
    "tags": []
   },
   "source": [
    "<ol>\n",
    "    <li>item 1</li>\n",
    "    <li>item 2</li>\n",
    "    <li>item 3</li>\n",
    "</ol>\n",
    "\n",
    "<ul>\n",
    "    <li>item 1</li>\n",
    "    <li>item 2</li>\n",
    "    <li>item 3</li>\n",
    "</ul>dd\n",
    "\n",
    "<a href=\"https://www.ibm.com/brand/experience-guides/developer/brand/logo/\">IBM LOGO</a>\n",
    "\n"
   ]
  },
  {
   "cell_type": "markdown",
   "metadata": {
    "tags": []
   },
   "source": [
    "this is an unordered list\n",
    "<ul>\n",
    "    <li>item 1</li>\n",
    "    <li>item 2</li>\n",
    "    <li>item 3</li>\n",
    "</ul>"
   ]
  },
  {
   "cell_type": "code",
   "execution_count": null,
   "metadata": {},
   "outputs": [],
   "source": []
  }
 ],
 "metadata": {
  "kernelspec": {
   "display_name": "Python",
   "language": "python",
   "name": "conda-env-python-py"
  },
  "language_info": {
   "codemirror_mode": {
    "name": "ipython",
    "version": 3
   },
   "file_extension": ".py",
   "mimetype": "text/x-python",
   "name": "python",
   "nbconvert_exporter": "python",
   "pygments_lexer": "ipython3",
   "version": "3.7.12"
  }
 },
 "nbformat": 4,
 "nbformat_minor": 4
}
